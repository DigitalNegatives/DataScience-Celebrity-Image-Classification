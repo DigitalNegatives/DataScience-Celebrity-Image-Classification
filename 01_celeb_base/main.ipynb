{
 "cells": [
  {
   "cell_type": "markdown",
   "metadata": {
    "deletable": true,
    "editable": true
   },
   "source": [
    "https://github.com/tensorflow/tensorflow/blob/master/tensorflow/examples/tutorials/mnist/mnist_with_summaries.py"
   ]
  },
  {
   "cell_type": "code",
   "execution_count": 1,
   "metadata": {
    "collapsed": false,
    "deletable": true,
    "editable": true
   },
   "outputs": [],
   "source": [
    "%matplotlib inline\n",
    "import tensorflow as tf\n",
    "from utils.celeb import *\n",
    "from utils.dataset import *\n",
    "from utils.reporting import *\n",
    "\n",
    "from IPython.display import display\n",
    "from sklearn.manifold import TSNE\n",
    "import pandas as pd\n",
    "import numpy as np\n",
    "import matplotlib.pyplot as plt\n",
    "import matplotlib.colors as colors\n",
    "import IPython.display as ipyd\n",
    "plt.style.use('ggplot')"
   ]
  },
  {
   "cell_type": "code",
   "execution_count": 2,
   "metadata": {
    "collapsed": true,
    "deletable": true,
    "editable": true
   },
   "outputs": [],
   "source": [
    "#data_dir = \"/home/data/images/\"\n",
    "#log_dir = \"/home/logs/\"\n",
    "\n",
    "data_dir = \"../data/MsCelebV1-Faces-Cropped.Samples/\"\n",
    "log_dir = \"./test/logs\""
   ]
  },
  {
   "cell_type": "code",
   "execution_count": 3,
   "metadata": {
    "collapsed": true
   },
   "outputs": [],
   "source": [
    "n_entities = 4\n",
    "n_images = 20\n",
    "seed = 42"
   ]
  },
  {
   "cell_type": "code",
   "execution_count": 4,
   "metadata": {
    "collapsed": true,
    "deletable": true,
    "editable": true
   },
   "outputs": [],
   "source": [
    "face_cascade = cv2.CascadeClassifier('./utils/haarcascade_frontalface_default.xml')\n",
    "eye_cascade = cv2.CascadeClassifier('./utils/haarcascade_eye.xml')"
   ]
  },
  {
   "cell_type": "code",
   "execution_count": 5,
   "metadata": {
    "collapsed": false,
    "deletable": true,
    "editable": true
   },
   "outputs": [
    {
     "name": "stdout",
     "output_type": "stream",
     "text": [
      "reading df/df_e4_i20_s42.csv file\n"
     ]
    }
   ],
   "source": [
    "df_dir = 'df'\n",
    "df_name = '{}/df_e{}_i{}_s{}.csv'.format(df_dir, n_entities, n_images, seed)\n",
    "\n",
    "if not os.path.exists(df_dir):\n",
    "        os.makedirs(df_dir)\n",
    "\n",
    "if os.path.isfile(df_name):\n",
    "    df = pd.read_csv(df_name)\n",
    "    print(\"reading {} file\".format(df_name))\n",
    "else:\n",
    "    df = get_dataframe(data_dir, n_entities, n_images, rnd_seed=seed)\n",
    "    df.to_csv(df_name)\n",
    "\n",
    "all_images, all_labels = get_all_images(df, data_dir)\n",
    "x_4d_shape = all_images.shape\n",
    "all_images = np.ravel(all_images).reshape(all_images.shape[0], all_images.shape[1] * all_images.shape[2] * all_images.shape[3])"
   ]
  },
  {
   "cell_type": "code",
   "execution_count": 6,
   "metadata": {
    "collapsed": false,
    "deletable": true,
    "editable": true
   },
   "outputs": [
    {
     "name": "stdout",
     "output_type": "stream",
     "text": [
      "Dataset init\n"
     ]
    },
    {
     "data": {
      "text/plain": [
       "(80, 100, 100, 3)"
      ]
     },
     "execution_count": 6,
     "metadata": {},
     "output_type": "execute_result"
    }
   ],
   "source": [
    "split = [0.8, 0.0, 0.2]\n",
    "ds = Dataset(all_images, all_labels, split=split, one_hot=True, rnd_seed=seed)\n",
    "\n",
    "n_samples = ds.X.shape[0]\n",
    "n_features = ds.X.shape[1]\n",
    "n_classes = ds.Y.shape[1]\n",
    "\n",
    "x_4d_shape"
   ]
  },
  {
   "cell_type": "markdown",
   "metadata": {
    "deletable": true,
    "editable": true
   },
   "source": [
    "### Create placeholders"
   ]
  },
  {
   "cell_type": "code",
   "execution_count": 7,
   "metadata": {
    "collapsed": false,
    "deletable": true,
    "editable": true
   },
   "outputs": [],
   "source": [
    "# Input placeholders\n",
    "with tf.name_scope('input'):\n",
    "    x = tf.placeholder(tf.float32, [None, n_features], name='x-input')\n",
    "    y_ = tf.placeholder(tf.float32, [None, n_classes], name='y-input')\n",
    "\n",
    "with tf.name_scope('input_reshape'):\n",
    "    #x_4d = tf.reshape(x, [-1, 100, 100, 3])\n",
    "    x_4d = tf.reshape(x, [-1, x_4d_shape[1], x_4d_shape[2], x_4d_shape[3]])\n",
    "    tf.summary.image('input', x_4d, 10)"
   ]
  },
  {
   "cell_type": "markdown",
   "metadata": {
    "deletable": true,
    "editable": true
   },
   "source": [
    "### Create Variables for Weights and Variables"
   ]
  },
  {
   "cell_type": "code",
   "execution_count": 8,
   "metadata": {
    "collapsed": false,
    "deletable": true,
    "editable": true
   },
   "outputs": [],
   "source": [
    "# We can't initialize these variables to 0 - the network will get stuck.\n",
    "\n",
    "def weight_variable_xavier(name, shape):\n",
    "    \"\"\"Create a weight variable with appropriate initialization.\"\"\"\n",
    "    initial = tf.get_variable(\n",
    "                            name=name,\n",
    "                            shape=shape,\n",
    "                            initializer=tf.contrib.layers.xavier_initializer_conv2d())\n",
    "    return initial\n",
    "\n",
    "def weight_variable(shape):\n",
    "    \"\"\"Create a weight variable with appropriate initialization.\"\"\"\n",
    "    initial = tf.truncated_normal(shape, stddev=0.1)\n",
    "    return tf.Variable(initial)\n",
    "\n",
    "def bias_variable(shape):\n",
    "    \"\"\"Create a bias variable with appropriate initialization.\"\"\"\n",
    "    initial = tf.constant(0.1, shape=shape)\n",
    "    return tf.Variable(initial)\n",
    "\n",
    "def conv2d(x, W, strides=[1,1,1,1]):\n",
    "    return tf.nn.conv2d(x, W, strides=strides, padding='SAME')\n",
    "\n",
    "def max_pool_2x2(x, ksize, strides):\n",
    "    return tf.nn.max_pool(x, ksize=ksize,\n",
    "                        strides=strides, padding='SAME')"
   ]
  },
  {
   "cell_type": "code",
   "execution_count": 9,
   "metadata": {
    "collapsed": true,
    "deletable": true,
    "editable": true
   },
   "outputs": [],
   "source": [
    "#X must be 4D\n",
    "def convolutions(X, n_filters, filter_sizes, filter_strides, activation=tf.nn.relu):\n",
    "    current_in = X\n",
    "    n_input_chs = X.get_shape().as_list()[3]\n",
    "    Ws = []\n",
    "    shapes = []\n",
    "\n",
    "    # Build the encoder\n",
    "    for layer_i, n_output_chs in enumerate(n_filters):\n",
    "        with tf.variable_scope('convolution/{}'.format(layer_i)):\n",
    "            shapes.append(current_in.get_shape().as_list())\n",
    "            W = weight_variable_xavier(\n",
    "                                name = \"W{}\".format(layer_i),\n",
    "                                shape = [filter_sizes[layer_i], \n",
    "                                 filter_sizes[layer_i], \n",
    "                                 n_input_chs, n_output_chs])\n",
    "            \n",
    "            pre_activation = conv2d(current_in, W, filter_strides)\n",
    "            h = activation(pre_activation)\n",
    "            Ws.append(W)\n",
    "            current_in = h\n",
    "            n_input_chs = n_output_chs\n",
    "            print(\"h.shape:\", h.get_shape().as_list())\n",
    "    shapes.append(current_in.get_shape().as_list())\n",
    "    print(\"shapes:\",shapes)\n",
    "    return h, Ws"
   ]
  },
  {
   "cell_type": "markdown",
   "metadata": {
    "deletable": true,
    "editable": true
   },
   "source": [
    "### Create Summaries for all var to include min/max/mean/std_dev"
   ]
  },
  {
   "cell_type": "code",
   "execution_count": 10,
   "metadata": {
    "collapsed": true,
    "deletable": true,
    "editable": true
   },
   "outputs": [],
   "source": [
    "def variable_summaries(var):\n",
    "    \"\"\"Attach a lot of summaries to a Tensor (for TensorBoard visualization).\"\"\"\n",
    "    with tf.name_scope('summaries'):\n",
    "        mean = tf.reduce_mean(var)\n",
    "        tf.summary.scalar('mean', mean)\n",
    "        with tf.name_scope('stddev'):\n",
    "            stddev = tf.sqrt(tf.reduce_mean(tf.square(var - mean)))\n",
    "        tf.summary.scalar('stddev', stddev)\n",
    "        tf.summary.scalar('max', tf.reduce_max(var))\n",
    "        tf.summary.scalar('min', tf.reduce_min(var))\n",
    "        tf.summary.histogram('histogram', var)"
   ]
  },
  {
   "cell_type": "markdown",
   "metadata": {
    "deletable": true,
    "editable": true
   },
   "source": [
    "### Fully connected layer"
   ]
  },
  {
   "cell_type": "code",
   "execution_count": 11,
   "metadata": {
    "collapsed": true,
    "deletable": true,
    "editable": true
   },
   "outputs": [],
   "source": [
    "def nn_layer(input_tensor, input_dim, output_dim, layer_name, act=tf.nn.relu):\n",
    "    \"\"\"Reusable code for making a simple neural net layer.\n",
    "    It does a matrix multiply, bias add, and then uses relu to nonlinearize.\n",
    "    It also sets up name scoping so that the resultant graph is easy to read,\n",
    "    and adds a number of summary ops.\n",
    "    \"\"\"\n",
    "    if (len(input_tensor.get_shape().as_list())==4):\n",
    "        input_shape = input_tensor.get_shape().as_list()\n",
    "        input_tensor = tf.reshape(input_tensor, [-1, input_shape[1]*input_shape[2]*input_shape[3]])\n",
    "    \n",
    "    # Adding a name scope ensures logical grouping of the layers in the graph.\n",
    "    with tf.name_scope(layer_name):\n",
    "      # This Variable will hold the state of the weights for the layer\n",
    "        with tf.name_scope('weights'):\n",
    "            weights = weight_variable([input_dim, output_dim])\n",
    "            variable_summaries(weights)\n",
    "        with tf.name_scope('biases'):\n",
    "            biases = bias_variable([output_dim])\n",
    "            variable_summaries(biases)\n",
    "        with tf.name_scope('Wx_plus_b'):\n",
    "            preactivate = tf.matmul(input_tensor, weights) + biases\n",
    "            tf.summary.histogram('pre_activations', preactivate)\n",
    "        activations = act(preactivate, name='activation')\n",
    "        tf.summary.histogram('activations', activations)\n",
    "        return activations, preactivate"
   ]
  },
  {
   "cell_type": "code",
   "execution_count": 12,
   "metadata": {
    "collapsed": true,
    "deletable": true,
    "editable": true
   },
   "outputs": [],
   "source": [
    "def drop_layer(h, dropout):\n",
    "    with tf.name_scope('dropout'):\n",
    "        #keep_prob = tf.placeholder(tf.float32)\n",
    "        #tf.summary.scalar('dropout_keep_probability', keep_prob)\n",
    "        tf.summary.scalar('dropout_keep_probability', dropout)\n",
    "        dropped = tf.nn.dropout(h, dropout)\n",
    "    return dropped"
   ]
  },
  {
   "cell_type": "markdown",
   "metadata": {
    "deletable": true,
    "editable": true
   },
   "source": [
    "# Configuration"
   ]
  },
  {
   "cell_type": "code",
   "execution_count": 13,
   "metadata": {
    "collapsed": true,
    "deletable": true,
    "editable": true
   },
   "outputs": [],
   "source": [
    "#data_dir = \"/home/data/images/\"\n",
    "#log_dir = \"/home/logs/\"\n",
    "learning_rate = 0.003\n",
    "epochs = 100\n",
    "dropout = 0.8\n",
    "FC_only = False\n",
    "\n",
    "#Conv parameters\n",
    "n_filters = [32, 32, 8]  #filter output sizes\n",
    "filter_sizes = [4, 4, 2]  #\n",
    "filter_strides = [1, 2, 2, 1]\n",
    "#maxpool parameters\n",
    "ksize = [1,2,2,1]\n",
    "k_strides = [1,2,2,1]\n",
    "#FC parameter\n",
    "n_nodes = 100\n",
    "final_layer = [n_classes]"
   ]
  },
  {
   "cell_type": "code",
   "execution_count": 14,
   "metadata": {
    "collapsed": false,
    "deletable": true,
    "editable": true
   },
   "outputs": [
    {
     "name": "stdout",
     "output_type": "stream",
     "text": [
      "h.shape: [None, 50, 50, 32]\n",
      "h.shape: [None, 25, 25, 32]\n",
      "h.shape: [None, 13, 13, 8]\n",
      "shapes: [[None, 100, 100, 3], [None, 50, 50, 32], [None, 25, 25, 32], [None, 13, 13, 8]]\n",
      "h.shape: [None, 13, 13, 8]\n",
      "h[3]: 8\n",
      "Ws: [<tensorflow.python.ops.variables.Variable object at 0x11ec48d68>, <tensorflow.python.ops.variables.Variable object at 0x121b805c0>, <tensorflow.python.ops.variables.Variable object at 0x12693d358>]\n"
     ]
    }
   ],
   "source": [
    "if not FC_only:\n",
    "    h, Ws = convolutions(x_4d, n_filters, filter_sizes, filter_strides)\n",
    "    h_shape = h.get_shape().as_list()\n",
    "    print(\"h.shape:\", h.get_shape().as_list())\n",
    "    print(\"h[3]:\", h.get_shape().as_list()[3])\n",
    "    print(\"Ws:\", Ws)"
   ]
  },
  {
   "cell_type": "markdown",
   "metadata": {
    "deletable": true,
    "editable": true
   },
   "source": [
    "### Make a fully connected layer"
   ]
  },
  {
   "cell_type": "code",
   "execution_count": 15,
   "metadata": {
    "collapsed": false,
    "deletable": true,
    "editable": true
   },
   "outputs": [
    {
     "name": "stdout",
     "output_type": "stream",
     "text": [
      "Tensor(\"layer1/activation:0\", shape=(?, 100), dtype=float32)\n"
     ]
    }
   ],
   "source": [
    "#hidden1 = nn_layer(h, h, 500, 'layer1')\n",
    "hidden1, pre_act_1 = nn_layer(h, h_shape[1]*h_shape[2]*h_shape[3], n_nodes, 'layer1')\n",
    "print(hidden1)"
   ]
  },
  {
   "cell_type": "markdown",
   "metadata": {
    "deletable": true,
    "editable": true
   },
   "source": [
    "### Drop layer"
   ]
  },
  {
   "cell_type": "code",
   "execution_count": 16,
   "metadata": {
    "collapsed": false,
    "deletable": true,
    "editable": true
   },
   "outputs": [],
   "source": [
    "dropped = drop_layer(hidden1, dropout)\n",
    "#y, pre_act_2 = nn_layer(dropped, 100, n_classes, 'layer2', act=tf.identity)\n",
    "hidden2, pre_act_2 = nn_layer(dropped, n_nodes, n_nodes, 'layer2')"
   ]
  },
  {
   "cell_type": "markdown",
   "metadata": {},
   "source": [
    "### Last fully connected layer"
   ]
  },
  {
   "cell_type": "code",
   "execution_count": 17,
   "metadata": {
    "collapsed": true
   },
   "outputs": [],
   "source": [
    "y, pre_act_3 = nn_layer(hidden2, n_nodes, n_classes, 'layer3', act=tf.identity)"
   ]
  },
  {
   "cell_type": "markdown",
   "metadata": {
    "deletable": true,
    "editable": true
   },
   "source": [
    "### Cross entropy cost function"
   ]
  },
  {
   "cell_type": "code",
   "execution_count": 18,
   "metadata": {
    "collapsed": false,
    "deletable": true,
    "editable": true
   },
   "outputs": [
    {
     "data": {
      "text/plain": [
       "<tf.Tensor 'cross_entropy_1:0' shape=() dtype=string>"
      ]
     },
     "execution_count": 18,
     "metadata": {},
     "output_type": "execute_result"
    }
   ],
   "source": [
    "with tf.name_scope('cross_entropy'):\n",
    "    diff = tf.nn.softmax_cross_entropy_with_logits(labels=y_, logits=y)\n",
    "    with tf.name_scope('total'):\n",
    "        cross_entropy = tf.reduce_mean(diff)\n",
    "tf.summary.scalar('cross_entropy', cross_entropy)"
   ]
  },
  {
   "cell_type": "code",
   "execution_count": 19,
   "metadata": {
    "collapsed": true,
    "deletable": true,
    "editable": true
   },
   "outputs": [],
   "source": [
    "with tf.name_scope('train'):\n",
    "    train_step = tf.train.AdamOptimizer(learning_rate).minimize(cross_entropy)"
   ]
  },
  {
   "cell_type": "markdown",
   "metadata": {
    "deletable": true,
    "editable": true
   },
   "source": [
    "### Accuracy"
   ]
  },
  {
   "cell_type": "code",
   "execution_count": 20,
   "metadata": {
    "collapsed": false,
    "deletable": true,
    "editable": true
   },
   "outputs": [
    {
     "data": {
      "text/plain": [
       "<tf.Tensor 'accuracy_1:0' shape=() dtype=string>"
      ]
     },
     "execution_count": 20,
     "metadata": {},
     "output_type": "execute_result"
    }
   ],
   "source": [
    "with tf.name_scope('accuracy'):\n",
    "    with tf.name_scope('correct_prediction'):\n",
    "        correct_prediction = tf.equal(tf.argmax(y, 1), tf.argmax(y_, 1))\n",
    "    with tf.name_scope('accuracy'):\n",
    "        accuracy = tf.reduce_mean(tf.cast(correct_prediction, tf.float32))\n",
    "tf.summary.scalar('accuracy', accuracy)"
   ]
  },
  {
   "cell_type": "markdown",
   "metadata": {
    "deletable": true,
    "editable": true
   },
   "source": [
    "### Feed data to feed_dict"
   ]
  },
  {
   "cell_type": "code",
   "execution_count": 21,
   "metadata": {
    "collapsed": true,
    "deletable": true,
    "editable": true
   },
   "outputs": [],
   "source": [
    "def feed_dict(train):\n",
    "    \"\"\"Make a TensorFlow feed_dict: maps data onto Tensor placeholders.\"\"\"\n",
    "    if train:\n",
    "        xs, ys = ds.train.images, ds.train.labels\n",
    "        k = dropout\n",
    "    else:    \n",
    "        xs, ys = ds.test.images, ds.test.labels\n",
    "        k = 1.0\n",
    "    #return {x: xs, y_: ys, keep_prob: k}\n",
    "    return {x: xs, y_: ys}"
   ]
  },
  {
   "cell_type": "markdown",
   "metadata": {
    "deletable": true,
    "editable": true
   },
   "source": [
    "### Summary writer and Create session"
   ]
  },
  {
   "cell_type": "code",
   "execution_count": 22,
   "metadata": {
    "collapsed": false,
    "deletable": true,
    "editable": true
   },
   "outputs": [],
   "source": [
    "# Merge all the summaries and write them out to /tmp/tensorflow/mnist/logs/mnist_with_summaries (by default)\n",
    "merged = tf.summary.merge_all()\n",
    "#sess = tf.Session()\n",
    "#sess.run(tf.global_variables_initializer())\n",
    "\n",
    "gpu_options = tf.GPUOptions(per_process_gpu_memory_fraction=0.333)\n",
    "sess = tf.InteractiveSession(config=tf.ConfigProto(gpu_options=gpu_options,\n",
    "        allow_soft_placement=True, log_device_placement=True))  \n",
    "sess.run(tf.global_variables_initializer())\n",
    "\n",
    "train_writer = tf.summary.FileWriter(log_dir + '/train', sess.graph)\n",
    "test_writer = tf.summary.FileWriter(log_dir + '/test')"
   ]
  },
  {
   "cell_type": "markdown",
   "metadata": {
    "deletable": true,
    "editable": true
   },
   "source": [
    "## Train and Test"
   ]
  },
  {
   "cell_type": "code",
   "execution_count": 23,
   "metadata": {
    "collapsed": false,
    "deletable": true,
    "editable": true
   },
   "outputs": [
    {
     "name": "stdout",
     "output_type": "stream",
     "text": [
      "Train accuracy at step 0: 0.265625\n",
      "Train accuracy at step 10: 0.703125\n",
      "Train accuracy at step 20: 0.890625\n",
      "Train accuracy at step 30: 0.875\n",
      "Train accuracy at step 40: 0.921875\n",
      "Train accuracy at step 50: 1.0\n",
      "Train accuracy at step 60: 1.0\n",
      "Train accuracy at step 70: 1.0\n",
      "Train accuracy at step 80: 0.984375\n",
      "Train accuracy at step 90: 0.90625\n",
      "Test Accuracy: 0.5\n",
      "\n",
      "Train Class Distribution\n"
     ]
    },
    {
     "data": {
      "text/html": [
       "<div>\n",
       "<table border=\"1\" class=\"dataframe\">\n",
       "  <thead>\n",
       "    <tr style=\"text-align: right;\">\n",
       "      <th></th>\n",
       "      <th>0</th>\n",
       "      <th>1</th>\n",
       "      <th>2</th>\n",
       "      <th>3</th>\n",
       "    </tr>\n",
       "  </thead>\n",
       "  <tbody>\n",
       "    <tr>\n",
       "      <th>distribution</th>\n",
       "      <td>17</td>\n",
       "      <td>15</td>\n",
       "      <td>17</td>\n",
       "      <td>15</td>\n",
       "    </tr>\n",
       "  </tbody>\n",
       "</table>\n",
       "</div>"
      ],
      "text/plain": [
       "               0   1   2   3\n",
       "distribution  17  15  17  15"
      ]
     },
     "metadata": {},
     "output_type": "display_data"
    },
    {
     "name": "stdout",
     "output_type": "stream",
     "text": [
      "\n",
      "Test Class Distribution\n"
     ]
    },
    {
     "data": {
      "text/html": [
       "<div>\n",
       "<table border=\"1\" class=\"dataframe\">\n",
       "  <thead>\n",
       "    <tr style=\"text-align: right;\">\n",
       "      <th></th>\n",
       "      <th>0</th>\n",
       "      <th>1</th>\n",
       "      <th>2</th>\n",
       "      <th>3</th>\n",
       "    </tr>\n",
       "  </thead>\n",
       "  <tbody>\n",
       "    <tr>\n",
       "      <th>distribution</th>\n",
       "      <td>3</td>\n",
       "      <td>5</td>\n",
       "      <td>3</td>\n",
       "      <td>5</td>\n",
       "    </tr>\n",
       "  </tbody>\n",
       "</table>\n",
       "</div>"
      ],
      "text/plain": [
       "              0  1  2  3\n",
       "distribution  3  5  3  5"
      ]
     },
     "metadata": {},
     "output_type": "display_data"
    },
    {
     "name": "stdout",
     "output_type": "stream",
     "text": [
      "\n",
      "Train Results\n"
     ]
    },
    {
     "name": "stderr",
     "output_type": "stream",
     "text": [
      "/Users/Anton/.virtualenvs/P3_TFv1/lib/python3.6/site-packages/sklearn/metrics/classification.py:1113: UndefinedMetricWarning: Precision is ill-defined and being set to 0.0 in labels with no predicted samples.\n",
      "  'precision', 'predicted', average, warn_for)\n",
      "/Users/Anton/.virtualenvs/P3_TFv1/lib/python3.6/site-packages/sklearn/metrics/classification.py:1113: UndefinedMetricWarning: F-score is ill-defined and being set to 0.0 in labels with no predicted samples.\n",
      "  'precision', 'predicted', average, warn_for)\n"
     ]
    },
    {
     "data": {
      "text/html": [
       "<div>\n",
       "<table border=\"1\" class=\"dataframe\">\n",
       "  <thead>\n",
       "    <tr style=\"text-align: right;\">\n",
       "      <th></th>\n",
       "      <th>value</th>\n",
       "    </tr>\n",
       "  </thead>\n",
       "  <tbody>\n",
       "    <tr>\n",
       "      <th>prec ovall</th>\n",
       "      <td>0.250</td>\n",
       "    </tr>\n",
       "    <tr>\n",
       "      <th>recall overall</th>\n",
       "      <td>0.400</td>\n",
       "    </tr>\n",
       "    <tr>\n",
       "      <th>f1 overall</th>\n",
       "      <td>0.303</td>\n",
       "    </tr>\n",
       "  </tbody>\n",
       "</table>\n",
       "</div>"
      ],
      "text/plain": [
       "                 value\n",
       "prec ovall       0.250\n",
       "recall overall   0.400\n",
       "f1 overall       0.303"
      ]
     },
     "metadata": {},
     "output_type": "display_data"
    },
    {
     "name": "stdout",
     "output_type": "stream",
     "text": [
      "\n",
      "Test Results by Class\n"
     ]
    },
    {
     "data": {
      "text/html": [
       "<div>\n",
       "<table border=\"1\" class=\"dataframe\">\n",
       "  <thead>\n",
       "    <tr style=\"text-align: right;\">\n",
       "      <th></th>\n",
       "      <th>0</th>\n",
       "      <th>1</th>\n",
       "      <th>2</th>\n",
       "      <th>3</th>\n",
       "    </tr>\n",
       "  </thead>\n",
       "  <tbody>\n",
       "    <tr>\n",
       "      <th>prec</th>\n",
       "      <td>0.0</td>\n",
       "      <td>0.500</td>\n",
       "      <td>0.0</td>\n",
       "      <td>0.500</td>\n",
       "    </tr>\n",
       "    <tr>\n",
       "      <th>recall</th>\n",
       "      <td>0.0</td>\n",
       "      <td>0.600</td>\n",
       "      <td>0.0</td>\n",
       "      <td>1.000</td>\n",
       "    </tr>\n",
       "    <tr>\n",
       "      <th>f1</th>\n",
       "      <td>0.0</td>\n",
       "      <td>0.545</td>\n",
       "      <td>0.0</td>\n",
       "      <td>0.667</td>\n",
       "    </tr>\n",
       "  </tbody>\n",
       "</table>\n",
       "</div>"
      ],
      "text/plain": [
       "          0      1    2      3\n",
       "prec    0.0  0.500  0.0  0.500\n",
       "recall  0.0  0.600  0.0  1.000\n",
       "f1      0.0  0.545  0.0  0.667"
      ]
     },
     "metadata": {},
     "output_type": "display_data"
    }
   ],
   "source": [
    "batch_size = 20\n",
    "\n",
    "finalRepresentations = []\n",
    "for i in range(epochs):\n",
    "    \n",
    "    if i%10 == 0:\n",
    "        # Train accuracy report\n",
    "        summary, acc = sess.run([merged, accuracy], feed_dict=feed_dict(True))\n",
    "        train_writer.add_summary(summary, i)\n",
    "        print('Train accuracy at step %s: %s' % (i, acc))\n",
    "        finalRepresentations.append(pre_act_2.eval(session=sess, feed_dict=feed_dict(True)))\n",
    "    else:\n",
    "        # Train network\n",
    "        for batch_X, batch_Y in ds.train.next_batch(batch_size=batch_size):\n",
    "            \n",
    "            summary, _ = sess.run([merged, train_step], feed_dict={x: batch_X, y_: batch_Y})\n",
    "            train_writer.add_summary(summary, i)\n",
    "\n",
    "test_hash = feed_dict(False)\n",
    "summary, acc, y = sess.run([merged, accuracy, y], feed_dict=feed_dict(False))\n",
    "test_writer.add_summary(summary, i)\n",
    "print('Test Accuracy: %s' % (acc))\n",
    "\n",
    "report(y, ds, n_classes)\n",
    "\n",
    "train_writer.close()\n",
    "test_writer.close()\n",
    "#sess.close()"
   ]
  },
  {
   "cell_type": "markdown",
   "metadata": {
    "collapsed": true,
    "deletable": true,
    "editable": true
   },
   "source": [
    "## Other Results"
   ]
  },
  {
   "cell_type": "markdown",
   "metadata": {},
   "source": [
    "### Activation"
   ]
  },
  {
   "cell_type": "code",
   "execution_count": 24,
   "metadata": {
    "collapsed": false
   },
   "outputs": [
    {
     "data": {
      "text/plain": [
       "['input/x-input',\n",
       " 'input/y-input',\n",
       " 'input_reshape/Reshape/shape',\n",
       " 'input_reshape/Reshape',\n",
       " 'input_reshape/input/tag',\n",
       " 'input_reshape/input',\n",
       " 'convolution/0/W0/Initializer/random_uniform/shape',\n",
       " 'convolution/0/W0/Initializer/random_uniform/min',\n",
       " 'convolution/0/W0/Initializer/random_uniform/max',\n",
       " 'convolution/0/W0/Initializer/random_uniform/RandomUniform',\n",
       " 'convolution/0/W0/Initializer/random_uniform/sub',\n",
       " 'convolution/0/W0/Initializer/random_uniform/mul',\n",
       " 'convolution/0/W0/Initializer/random_uniform',\n",
       " 'convolution/0/W0',\n",
       " 'convolution/0/W0/Assign',\n",
       " 'convolution/0/W0/read',\n",
       " 'convolution/0/Conv2D',\n",
       " 'convolution/0/Relu',\n",
       " 'convolution/1/W1/Initializer/random_uniform/shape',\n",
       " 'convolution/1/W1/Initializer/random_uniform/min',\n",
       " 'convolution/1/W1/Initializer/random_uniform/max',\n",
       " 'convolution/1/W1/Initializer/random_uniform/RandomUniform',\n",
       " 'convolution/1/W1/Initializer/random_uniform/sub',\n",
       " 'convolution/1/W1/Initializer/random_uniform/mul',\n",
       " 'convolution/1/W1/Initializer/random_uniform',\n",
       " 'convolution/1/W1',\n",
       " 'convolution/1/W1/Assign',\n",
       " 'convolution/1/W1/read',\n",
       " 'convolution/1/Conv2D',\n",
       " 'convolution/1/Relu',\n",
       " 'convolution/2/W2/Initializer/random_uniform/shape',\n",
       " 'convolution/2/W2/Initializer/random_uniform/min',\n",
       " 'convolution/2/W2/Initializer/random_uniform/max',\n",
       " 'convolution/2/W2/Initializer/random_uniform/RandomUniform',\n",
       " 'convolution/2/W2/Initializer/random_uniform/sub',\n",
       " 'convolution/2/W2/Initializer/random_uniform/mul',\n",
       " 'convolution/2/W2/Initializer/random_uniform',\n",
       " 'convolution/2/W2',\n",
       " 'convolution/2/W2/Assign',\n",
       " 'convolution/2/W2/read',\n",
       " 'convolution/2/Conv2D',\n",
       " 'convolution/2/Relu',\n",
       " 'Reshape/shape',\n",
       " 'Reshape',\n",
       " 'layer1/weights/truncated_normal/shape',\n",
       " 'layer1/weights/truncated_normal/mean',\n",
       " 'layer1/weights/truncated_normal/stddev',\n",
       " 'layer1/weights/truncated_normal/TruncatedNormal',\n",
       " 'layer1/weights/truncated_normal/mul',\n",
       " 'layer1/weights/truncated_normal',\n",
       " 'layer1/weights/Variable',\n",
       " 'layer1/weights/Variable/Assign',\n",
       " 'layer1/weights/Variable/read',\n",
       " 'layer1/weights/summaries/Rank',\n",
       " 'layer1/weights/summaries/range/start',\n",
       " 'layer1/weights/summaries/range/delta',\n",
       " 'layer1/weights/summaries/range',\n",
       " 'layer1/weights/summaries/Mean',\n",
       " 'layer1/weights/summaries/mean/tags',\n",
       " 'layer1/weights/summaries/mean',\n",
       " 'layer1/weights/summaries/stddev/sub',\n",
       " 'layer1/weights/summaries/stddev/Square',\n",
       " 'layer1/weights/summaries/stddev/Const',\n",
       " 'layer1/weights/summaries/stddev/Mean',\n",
       " 'layer1/weights/summaries/stddev/Sqrt',\n",
       " 'layer1/weights/summaries/stddev_1/tags',\n",
       " 'layer1/weights/summaries/stddev_1',\n",
       " 'layer1/weights/summaries/Rank_1',\n",
       " 'layer1/weights/summaries/range_1/start',\n",
       " 'layer1/weights/summaries/range_1/delta',\n",
       " 'layer1/weights/summaries/range_1',\n",
       " 'layer1/weights/summaries/Max',\n",
       " 'layer1/weights/summaries/max/tags',\n",
       " 'layer1/weights/summaries/max',\n",
       " 'layer1/weights/summaries/Rank_2',\n",
       " 'layer1/weights/summaries/range_2/start',\n",
       " 'layer1/weights/summaries/range_2/delta',\n",
       " 'layer1/weights/summaries/range_2',\n",
       " 'layer1/weights/summaries/Min',\n",
       " 'layer1/weights/summaries/min/tags',\n",
       " 'layer1/weights/summaries/min',\n",
       " 'layer1/weights/summaries/histogram/tag',\n",
       " 'layer1/weights/summaries/histogram',\n",
       " 'layer1/biases/Const',\n",
       " 'layer1/biases/Variable',\n",
       " 'layer1/biases/Variable/Assign',\n",
       " 'layer1/biases/Variable/read',\n",
       " 'layer1/biases/summaries/Rank',\n",
       " 'layer1/biases/summaries/range/start',\n",
       " 'layer1/biases/summaries/range/delta',\n",
       " 'layer1/biases/summaries/range',\n",
       " 'layer1/biases/summaries/Mean',\n",
       " 'layer1/biases/summaries/mean/tags',\n",
       " 'layer1/biases/summaries/mean',\n",
       " 'layer1/biases/summaries/stddev/sub',\n",
       " 'layer1/biases/summaries/stddev/Square',\n",
       " 'layer1/biases/summaries/stddev/Const',\n",
       " 'layer1/biases/summaries/stddev/Mean',\n",
       " 'layer1/biases/summaries/stddev/Sqrt',\n",
       " 'layer1/biases/summaries/stddev_1/tags',\n",
       " 'layer1/biases/summaries/stddev_1',\n",
       " 'layer1/biases/summaries/Rank_1',\n",
       " 'layer1/biases/summaries/range_1/start',\n",
       " 'layer1/biases/summaries/range_1/delta',\n",
       " 'layer1/biases/summaries/range_1',\n",
       " 'layer1/biases/summaries/Max',\n",
       " 'layer1/biases/summaries/max/tags',\n",
       " 'layer1/biases/summaries/max',\n",
       " 'layer1/biases/summaries/Rank_2',\n",
       " 'layer1/biases/summaries/range_2/start',\n",
       " 'layer1/biases/summaries/range_2/delta',\n",
       " 'layer1/biases/summaries/range_2',\n",
       " 'layer1/biases/summaries/Min',\n",
       " 'layer1/biases/summaries/min/tags',\n",
       " 'layer1/biases/summaries/min',\n",
       " 'layer1/biases/summaries/histogram/tag',\n",
       " 'layer1/biases/summaries/histogram',\n",
       " 'layer1/Wx_plus_b/MatMul',\n",
       " 'layer1/Wx_plus_b/add',\n",
       " 'layer1/Wx_plus_b/pre_activations/tag',\n",
       " 'layer1/Wx_plus_b/pre_activations',\n",
       " 'layer1/activation',\n",
       " 'layer1/activations/tag',\n",
       " 'layer1/activations',\n",
       " 'dropout/dropout_keep_probability/tags',\n",
       " 'dropout/dropout_keep_probability/values',\n",
       " 'dropout/dropout_keep_probability',\n",
       " 'dropout/dropout/keep_prob',\n",
       " 'dropout/dropout/Shape',\n",
       " 'dropout/dropout/random_uniform/min',\n",
       " 'dropout/dropout/random_uniform/max',\n",
       " 'dropout/dropout/random_uniform/RandomUniform',\n",
       " 'dropout/dropout/random_uniform/sub',\n",
       " 'dropout/dropout/random_uniform/mul',\n",
       " 'dropout/dropout/random_uniform',\n",
       " 'dropout/dropout/add',\n",
       " 'dropout/dropout/Floor',\n",
       " 'dropout/dropout/div',\n",
       " 'dropout/dropout/mul',\n",
       " 'layer2/weights/truncated_normal/shape',\n",
       " 'layer2/weights/truncated_normal/mean',\n",
       " 'layer2/weights/truncated_normal/stddev',\n",
       " 'layer2/weights/truncated_normal/TruncatedNormal',\n",
       " 'layer2/weights/truncated_normal/mul',\n",
       " 'layer2/weights/truncated_normal',\n",
       " 'layer2/weights/Variable',\n",
       " 'layer2/weights/Variable/Assign',\n",
       " 'layer2/weights/Variable/read',\n",
       " 'layer2/weights/summaries/Rank',\n",
       " 'layer2/weights/summaries/range/start',\n",
       " 'layer2/weights/summaries/range/delta',\n",
       " 'layer2/weights/summaries/range',\n",
       " 'layer2/weights/summaries/Mean',\n",
       " 'layer2/weights/summaries/mean/tags',\n",
       " 'layer2/weights/summaries/mean',\n",
       " 'layer2/weights/summaries/stddev/sub',\n",
       " 'layer2/weights/summaries/stddev/Square',\n",
       " 'layer2/weights/summaries/stddev/Const',\n",
       " 'layer2/weights/summaries/stddev/Mean',\n",
       " 'layer2/weights/summaries/stddev/Sqrt',\n",
       " 'layer2/weights/summaries/stddev_1/tags',\n",
       " 'layer2/weights/summaries/stddev_1',\n",
       " 'layer2/weights/summaries/Rank_1',\n",
       " 'layer2/weights/summaries/range_1/start',\n",
       " 'layer2/weights/summaries/range_1/delta',\n",
       " 'layer2/weights/summaries/range_1',\n",
       " 'layer2/weights/summaries/Max',\n",
       " 'layer2/weights/summaries/max/tags',\n",
       " 'layer2/weights/summaries/max',\n",
       " 'layer2/weights/summaries/Rank_2',\n",
       " 'layer2/weights/summaries/range_2/start',\n",
       " 'layer2/weights/summaries/range_2/delta',\n",
       " 'layer2/weights/summaries/range_2',\n",
       " 'layer2/weights/summaries/Min',\n",
       " 'layer2/weights/summaries/min/tags',\n",
       " 'layer2/weights/summaries/min',\n",
       " 'layer2/weights/summaries/histogram/tag',\n",
       " 'layer2/weights/summaries/histogram',\n",
       " 'layer2/biases/Const',\n",
       " 'layer2/biases/Variable',\n",
       " 'layer2/biases/Variable/Assign',\n",
       " 'layer2/biases/Variable/read',\n",
       " 'layer2/biases/summaries/Rank',\n",
       " 'layer2/biases/summaries/range/start',\n",
       " 'layer2/biases/summaries/range/delta',\n",
       " 'layer2/biases/summaries/range',\n",
       " 'layer2/biases/summaries/Mean',\n",
       " 'layer2/biases/summaries/mean/tags',\n",
       " 'layer2/biases/summaries/mean',\n",
       " 'layer2/biases/summaries/stddev/sub',\n",
       " 'layer2/biases/summaries/stddev/Square',\n",
       " 'layer2/biases/summaries/stddev/Const',\n",
       " 'layer2/biases/summaries/stddev/Mean',\n",
       " 'layer2/biases/summaries/stddev/Sqrt',\n",
       " 'layer2/biases/summaries/stddev_1/tags',\n",
       " 'layer2/biases/summaries/stddev_1',\n",
       " 'layer2/biases/summaries/Rank_1',\n",
       " 'layer2/biases/summaries/range_1/start',\n",
       " 'layer2/biases/summaries/range_1/delta',\n",
       " 'layer2/biases/summaries/range_1',\n",
       " 'layer2/biases/summaries/Max',\n",
       " 'layer2/biases/summaries/max/tags',\n",
       " 'layer2/biases/summaries/max',\n",
       " 'layer2/biases/summaries/Rank_2',\n",
       " 'layer2/biases/summaries/range_2/start',\n",
       " 'layer2/biases/summaries/range_2/delta',\n",
       " 'layer2/biases/summaries/range_2',\n",
       " 'layer2/biases/summaries/Min',\n",
       " 'layer2/biases/summaries/min/tags',\n",
       " 'layer2/biases/summaries/min',\n",
       " 'layer2/biases/summaries/histogram/tag',\n",
       " 'layer2/biases/summaries/histogram',\n",
       " 'layer2/Wx_plus_b/MatMul',\n",
       " 'layer2/Wx_plus_b/add',\n",
       " 'layer2/Wx_plus_b/pre_activations/tag',\n",
       " 'layer2/Wx_plus_b/pre_activations',\n",
       " 'layer2/activation',\n",
       " 'layer2/activations/tag',\n",
       " 'layer2/activations',\n",
       " 'layer3/weights/truncated_normal/shape',\n",
       " 'layer3/weights/truncated_normal/mean',\n",
       " 'layer3/weights/truncated_normal/stddev',\n",
       " 'layer3/weights/truncated_normal/TruncatedNormal',\n",
       " 'layer3/weights/truncated_normal/mul',\n",
       " 'layer3/weights/truncated_normal',\n",
       " 'layer3/weights/Variable',\n",
       " 'layer3/weights/Variable/Assign',\n",
       " 'layer3/weights/Variable/read',\n",
       " 'layer3/weights/summaries/Rank',\n",
       " 'layer3/weights/summaries/range/start',\n",
       " 'layer3/weights/summaries/range/delta',\n",
       " 'layer3/weights/summaries/range',\n",
       " 'layer3/weights/summaries/Mean',\n",
       " 'layer3/weights/summaries/mean/tags',\n",
       " 'layer3/weights/summaries/mean',\n",
       " 'layer3/weights/summaries/stddev/sub',\n",
       " 'layer3/weights/summaries/stddev/Square',\n",
       " 'layer3/weights/summaries/stddev/Const',\n",
       " 'layer3/weights/summaries/stddev/Mean',\n",
       " 'layer3/weights/summaries/stddev/Sqrt',\n",
       " 'layer3/weights/summaries/stddev_1/tags',\n",
       " 'layer3/weights/summaries/stddev_1',\n",
       " 'layer3/weights/summaries/Rank_1',\n",
       " 'layer3/weights/summaries/range_1/start',\n",
       " 'layer3/weights/summaries/range_1/delta',\n",
       " 'layer3/weights/summaries/range_1',\n",
       " 'layer3/weights/summaries/Max',\n",
       " 'layer3/weights/summaries/max/tags',\n",
       " 'layer3/weights/summaries/max',\n",
       " 'layer3/weights/summaries/Rank_2',\n",
       " 'layer3/weights/summaries/range_2/start',\n",
       " 'layer3/weights/summaries/range_2/delta',\n",
       " 'layer3/weights/summaries/range_2',\n",
       " 'layer3/weights/summaries/Min',\n",
       " 'layer3/weights/summaries/min/tags',\n",
       " 'layer3/weights/summaries/min',\n",
       " 'layer3/weights/summaries/histogram/tag',\n",
       " 'layer3/weights/summaries/histogram',\n",
       " 'layer3/biases/Const',\n",
       " 'layer3/biases/Variable',\n",
       " 'layer3/biases/Variable/Assign',\n",
       " 'layer3/biases/Variable/read',\n",
       " 'layer3/biases/summaries/Rank',\n",
       " 'layer3/biases/summaries/range/start',\n",
       " 'layer3/biases/summaries/range/delta',\n",
       " 'layer3/biases/summaries/range',\n",
       " 'layer3/biases/summaries/Mean',\n",
       " 'layer3/biases/summaries/mean/tags',\n",
       " 'layer3/biases/summaries/mean',\n",
       " 'layer3/biases/summaries/stddev/sub',\n",
       " 'layer3/biases/summaries/stddev/Square',\n",
       " 'layer3/biases/summaries/stddev/Const',\n",
       " 'layer3/biases/summaries/stddev/Mean',\n",
       " 'layer3/biases/summaries/stddev/Sqrt',\n",
       " 'layer3/biases/summaries/stddev_1/tags',\n",
       " 'layer3/biases/summaries/stddev_1',\n",
       " 'layer3/biases/summaries/Rank_1',\n",
       " 'layer3/biases/summaries/range_1/start',\n",
       " 'layer3/biases/summaries/range_1/delta',\n",
       " 'layer3/biases/summaries/range_1',\n",
       " 'layer3/biases/summaries/Max',\n",
       " 'layer3/biases/summaries/max/tags',\n",
       " 'layer3/biases/summaries/max',\n",
       " 'layer3/biases/summaries/Rank_2',\n",
       " 'layer3/biases/summaries/range_2/start',\n",
       " 'layer3/biases/summaries/range_2/delta',\n",
       " 'layer3/biases/summaries/range_2',\n",
       " 'layer3/biases/summaries/Min',\n",
       " 'layer3/biases/summaries/min/tags',\n",
       " 'layer3/biases/summaries/min',\n",
       " 'layer3/biases/summaries/histogram/tag',\n",
       " 'layer3/biases/summaries/histogram',\n",
       " 'layer3/Wx_plus_b/MatMul',\n",
       " 'layer3/Wx_plus_b/add',\n",
       " 'layer3/Wx_plus_b/pre_activations/tag',\n",
       " 'layer3/Wx_plus_b/pre_activations',\n",
       " 'layer3/activation',\n",
       " 'layer3/activations/tag',\n",
       " 'layer3/activations',\n",
       " 'cross_entropy/Rank',\n",
       " 'cross_entropy/Shape',\n",
       " 'cross_entropy/Rank_1',\n",
       " 'cross_entropy/Shape_1',\n",
       " 'cross_entropy/Sub/y',\n",
       " 'cross_entropy/Sub',\n",
       " 'cross_entropy/Slice/begin',\n",
       " 'cross_entropy/Slice/size',\n",
       " 'cross_entropy/Slice',\n",
       " 'cross_entropy/concat/values_0',\n",
       " 'cross_entropy/concat/axis',\n",
       " 'cross_entropy/concat',\n",
       " 'cross_entropy/Reshape',\n",
       " 'cross_entropy/Rank_2',\n",
       " 'cross_entropy/Shape_2',\n",
       " 'cross_entropy/Sub_1/y',\n",
       " 'cross_entropy/Sub_1',\n",
       " 'cross_entropy/Slice_1/begin',\n",
       " 'cross_entropy/Slice_1/size',\n",
       " 'cross_entropy/Slice_1',\n",
       " 'cross_entropy/concat_1/values_0',\n",
       " 'cross_entropy/concat_1/axis',\n",
       " 'cross_entropy/concat_1',\n",
       " 'cross_entropy/Reshape_1',\n",
       " 'cross_entropy/SoftmaxCrossEntropyWithLogits',\n",
       " 'cross_entropy/Sub_2/y',\n",
       " 'cross_entropy/Sub_2',\n",
       " 'cross_entropy/Slice_2/begin',\n",
       " 'cross_entropy/Slice_2/size',\n",
       " 'cross_entropy/Slice_2',\n",
       " 'cross_entropy/Reshape_2',\n",
       " 'cross_entropy/total/Const',\n",
       " 'cross_entropy/total/Mean',\n",
       " 'cross_entropy_1/tags',\n",
       " 'cross_entropy_1',\n",
       " 'train/gradients/Shape',\n",
       " 'train/gradients/Const',\n",
       " 'train/gradients/Fill',\n",
       " 'train/gradients/cross_entropy/total/Mean_grad/Reshape/shape',\n",
       " 'train/gradients/cross_entropy/total/Mean_grad/Reshape',\n",
       " 'train/gradients/cross_entropy/total/Mean_grad/Shape',\n",
       " 'train/gradients/cross_entropy/total/Mean_grad/Tile',\n",
       " 'train/gradients/cross_entropy/total/Mean_grad/Shape_1',\n",
       " 'train/gradients/cross_entropy/total/Mean_grad/Shape_2',\n",
       " 'train/gradients/cross_entropy/total/Mean_grad/Const',\n",
       " 'train/gradients/cross_entropy/total/Mean_grad/Prod',\n",
       " 'train/gradients/cross_entropy/total/Mean_grad/Const_1',\n",
       " 'train/gradients/cross_entropy/total/Mean_grad/Prod_1',\n",
       " 'train/gradients/cross_entropy/total/Mean_grad/Maximum/y',\n",
       " 'train/gradients/cross_entropy/total/Mean_grad/Maximum',\n",
       " 'train/gradients/cross_entropy/total/Mean_grad/floordiv',\n",
       " 'train/gradients/cross_entropy/total/Mean_grad/Cast',\n",
       " 'train/gradients/cross_entropy/total/Mean_grad/truediv',\n",
       " 'train/gradients/cross_entropy/Reshape_2_grad/Shape',\n",
       " 'train/gradients/cross_entropy/Reshape_2_grad/Reshape',\n",
       " 'train/gradients/zeros_like',\n",
       " 'train/gradients/cross_entropy/SoftmaxCrossEntropyWithLogits_grad/PreventGradient',\n",
       " 'train/gradients/cross_entropy/SoftmaxCrossEntropyWithLogits_grad/ExpandDims/dim',\n",
       " 'train/gradients/cross_entropy/SoftmaxCrossEntropyWithLogits_grad/ExpandDims',\n",
       " 'train/gradients/cross_entropy/SoftmaxCrossEntropyWithLogits_grad/mul',\n",
       " 'train/gradients/cross_entropy/Reshape_grad/Shape',\n",
       " 'train/gradients/cross_entropy/Reshape_grad/Reshape',\n",
       " 'train/gradients/layer3/Wx_plus_b/add_grad/Shape',\n",
       " 'train/gradients/layer3/Wx_plus_b/add_grad/Shape_1',\n",
       " 'train/gradients/layer3/Wx_plus_b/add_grad/BroadcastGradientArgs',\n",
       " 'train/gradients/layer3/Wx_plus_b/add_grad/Sum',\n",
       " 'train/gradients/layer3/Wx_plus_b/add_grad/Reshape',\n",
       " 'train/gradients/layer3/Wx_plus_b/add_grad/Sum_1',\n",
       " 'train/gradients/layer3/Wx_plus_b/add_grad/Reshape_1',\n",
       " 'train/gradients/layer3/Wx_plus_b/add_grad/tuple/group_deps',\n",
       " 'train/gradients/layer3/Wx_plus_b/add_grad/tuple/control_dependency',\n",
       " 'train/gradients/layer3/Wx_plus_b/add_grad/tuple/control_dependency_1',\n",
       " 'train/gradients/layer3/Wx_plus_b/MatMul_grad/MatMul',\n",
       " 'train/gradients/layer3/Wx_plus_b/MatMul_grad/MatMul_1',\n",
       " 'train/gradients/layer3/Wx_plus_b/MatMul_grad/tuple/group_deps',\n",
       " 'train/gradients/layer3/Wx_plus_b/MatMul_grad/tuple/control_dependency',\n",
       " 'train/gradients/layer3/Wx_plus_b/MatMul_grad/tuple/control_dependency_1',\n",
       " 'train/gradients/layer2/activation_grad/ReluGrad',\n",
       " 'train/gradients/layer2/Wx_plus_b/add_grad/Shape',\n",
       " 'train/gradients/layer2/Wx_plus_b/add_grad/Shape_1',\n",
       " 'train/gradients/layer2/Wx_plus_b/add_grad/BroadcastGradientArgs',\n",
       " 'train/gradients/layer2/Wx_plus_b/add_grad/Sum',\n",
       " 'train/gradients/layer2/Wx_plus_b/add_grad/Reshape',\n",
       " 'train/gradients/layer2/Wx_plus_b/add_grad/Sum_1',\n",
       " 'train/gradients/layer2/Wx_plus_b/add_grad/Reshape_1',\n",
       " 'train/gradients/layer2/Wx_plus_b/add_grad/tuple/group_deps',\n",
       " 'train/gradients/layer2/Wx_plus_b/add_grad/tuple/control_dependency',\n",
       " 'train/gradients/layer2/Wx_plus_b/add_grad/tuple/control_dependency_1',\n",
       " 'train/gradients/layer2/Wx_plus_b/MatMul_grad/MatMul',\n",
       " 'train/gradients/layer2/Wx_plus_b/MatMul_grad/MatMul_1',\n",
       " 'train/gradients/layer2/Wx_plus_b/MatMul_grad/tuple/group_deps',\n",
       " 'train/gradients/layer2/Wx_plus_b/MatMul_grad/tuple/control_dependency',\n",
       " 'train/gradients/layer2/Wx_plus_b/MatMul_grad/tuple/control_dependency_1',\n",
       " 'train/gradients/dropout/dropout/mul_grad/Shape',\n",
       " 'train/gradients/dropout/dropout/mul_grad/Shape_1',\n",
       " 'train/gradients/dropout/dropout/mul_grad/BroadcastGradientArgs',\n",
       " 'train/gradients/dropout/dropout/mul_grad/mul',\n",
       " 'train/gradients/dropout/dropout/mul_grad/Sum',\n",
       " 'train/gradients/dropout/dropout/mul_grad/Reshape',\n",
       " 'train/gradients/dropout/dropout/mul_grad/mul_1',\n",
       " 'train/gradients/dropout/dropout/mul_grad/Sum_1',\n",
       " 'train/gradients/dropout/dropout/mul_grad/Reshape_1',\n",
       " 'train/gradients/dropout/dropout/mul_grad/tuple/group_deps',\n",
       " 'train/gradients/dropout/dropout/mul_grad/tuple/control_dependency',\n",
       " 'train/gradients/dropout/dropout/mul_grad/tuple/control_dependency_1',\n",
       " 'train/gradients/dropout/dropout/div_grad/Shape',\n",
       " 'train/gradients/dropout/dropout/div_grad/Shape_1',\n",
       " 'train/gradients/dropout/dropout/div_grad/BroadcastGradientArgs',\n",
       " 'train/gradients/dropout/dropout/div_grad/RealDiv',\n",
       " 'train/gradients/dropout/dropout/div_grad/Sum',\n",
       " 'train/gradients/dropout/dropout/div_grad/Reshape',\n",
       " 'train/gradients/dropout/dropout/div_grad/Neg',\n",
       " 'train/gradients/dropout/dropout/div_grad/RealDiv_1',\n",
       " 'train/gradients/dropout/dropout/div_grad/RealDiv_2',\n",
       " 'train/gradients/dropout/dropout/div_grad/mul',\n",
       " 'train/gradients/dropout/dropout/div_grad/Sum_1',\n",
       " 'train/gradients/dropout/dropout/div_grad/Reshape_1',\n",
       " 'train/gradients/dropout/dropout/div_grad/tuple/group_deps',\n",
       " 'train/gradients/dropout/dropout/div_grad/tuple/control_dependency',\n",
       " 'train/gradients/dropout/dropout/div_grad/tuple/control_dependency_1',\n",
       " 'train/gradients/layer1/activation_grad/ReluGrad',\n",
       " 'train/gradients/layer1/Wx_plus_b/add_grad/Shape',\n",
       " 'train/gradients/layer1/Wx_plus_b/add_grad/Shape_1',\n",
       " 'train/gradients/layer1/Wx_plus_b/add_grad/BroadcastGradientArgs',\n",
       " 'train/gradients/layer1/Wx_plus_b/add_grad/Sum',\n",
       " 'train/gradients/layer1/Wx_plus_b/add_grad/Reshape',\n",
       " 'train/gradients/layer1/Wx_plus_b/add_grad/Sum_1',\n",
       " 'train/gradients/layer1/Wx_plus_b/add_grad/Reshape_1',\n",
       " 'train/gradients/layer1/Wx_plus_b/add_grad/tuple/group_deps',\n",
       " 'train/gradients/layer1/Wx_plus_b/add_grad/tuple/control_dependency',\n",
       " 'train/gradients/layer1/Wx_plus_b/add_grad/tuple/control_dependency_1',\n",
       " 'train/gradients/layer1/Wx_plus_b/MatMul_grad/MatMul',\n",
       " 'train/gradients/layer1/Wx_plus_b/MatMul_grad/MatMul_1',\n",
       " 'train/gradients/layer1/Wx_plus_b/MatMul_grad/tuple/group_deps',\n",
       " 'train/gradients/layer1/Wx_plus_b/MatMul_grad/tuple/control_dependency',\n",
       " 'train/gradients/layer1/Wx_plus_b/MatMul_grad/tuple/control_dependency_1',\n",
       " 'train/gradients/Reshape_grad/Shape',\n",
       " 'train/gradients/Reshape_grad/Reshape',\n",
       " 'train/gradients/convolution/2/Relu_grad/ReluGrad',\n",
       " 'train/gradients/convolution/2/Conv2D_grad/Shape',\n",
       " 'train/gradients/convolution/2/Conv2D_grad/Conv2DBackpropInput',\n",
       " 'train/gradients/convolution/2/Conv2D_grad/Shape_1',\n",
       " 'train/gradients/convolution/2/Conv2D_grad/Conv2DBackpropFilter',\n",
       " 'train/gradients/convolution/2/Conv2D_grad/tuple/group_deps',\n",
       " 'train/gradients/convolution/2/Conv2D_grad/tuple/control_dependency',\n",
       " 'train/gradients/convolution/2/Conv2D_grad/tuple/control_dependency_1',\n",
       " 'train/gradients/convolution/1/Relu_grad/ReluGrad',\n",
       " 'train/gradients/convolution/1/Conv2D_grad/Shape',\n",
       " 'train/gradients/convolution/1/Conv2D_grad/Conv2DBackpropInput',\n",
       " 'train/gradients/convolution/1/Conv2D_grad/Shape_1',\n",
       " 'train/gradients/convolution/1/Conv2D_grad/Conv2DBackpropFilter',\n",
       " 'train/gradients/convolution/1/Conv2D_grad/tuple/group_deps',\n",
       " 'train/gradients/convolution/1/Conv2D_grad/tuple/control_dependency',\n",
       " 'train/gradients/convolution/1/Conv2D_grad/tuple/control_dependency_1',\n",
       " 'train/gradients/convolution/0/Relu_grad/ReluGrad',\n",
       " 'train/gradients/convolution/0/Conv2D_grad/Shape',\n",
       " 'train/gradients/convolution/0/Conv2D_grad/Conv2DBackpropInput',\n",
       " 'train/gradients/convolution/0/Conv2D_grad/Shape_1',\n",
       " 'train/gradients/convolution/0/Conv2D_grad/Conv2DBackpropFilter',\n",
       " 'train/gradients/convolution/0/Conv2D_grad/tuple/group_deps',\n",
       " 'train/gradients/convolution/0/Conv2D_grad/tuple/control_dependency',\n",
       " 'train/gradients/convolution/0/Conv2D_grad/tuple/control_dependency_1',\n",
       " 'train/beta1_power/initial_value',\n",
       " 'train/beta1_power',\n",
       " 'train/beta1_power/Assign',\n",
       " 'train/beta1_power/read',\n",
       " 'train/beta2_power/initial_value',\n",
       " 'train/beta2_power',\n",
       " 'train/beta2_power/Assign',\n",
       " 'train/beta2_power/read',\n",
       " 'train/zeros',\n",
       " 'convolution/0/W0/Adam',\n",
       " 'convolution/0/W0/Adam/Assign',\n",
       " 'convolution/0/W0/Adam/read',\n",
       " 'train/zeros_1',\n",
       " 'convolution/0/W0/Adam_1',\n",
       " 'convolution/0/W0/Adam_1/Assign',\n",
       " 'convolution/0/W0/Adam_1/read',\n",
       " 'train/zeros_2',\n",
       " 'convolution/1/W1/Adam',\n",
       " 'convolution/1/W1/Adam/Assign',\n",
       " 'convolution/1/W1/Adam/read',\n",
       " 'train/zeros_3',\n",
       " 'convolution/1/W1/Adam_1',\n",
       " 'convolution/1/W1/Adam_1/Assign',\n",
       " 'convolution/1/W1/Adam_1/read',\n",
       " 'train/zeros_4',\n",
       " 'convolution/2/W2/Adam',\n",
       " 'convolution/2/W2/Adam/Assign',\n",
       " 'convolution/2/W2/Adam/read',\n",
       " 'train/zeros_5',\n",
       " 'convolution/2/W2/Adam_1',\n",
       " 'convolution/2/W2/Adam_1/Assign',\n",
       " 'convolution/2/W2/Adam_1/read',\n",
       " 'train/zeros_6',\n",
       " 'layer1/weights/Variable/Adam',\n",
       " 'layer1/weights/Variable/Adam/Assign',\n",
       " 'layer1/weights/Variable/Adam/read',\n",
       " 'train/zeros_7',\n",
       " 'layer1/weights/Variable/Adam_1',\n",
       " 'layer1/weights/Variable/Adam_1/Assign',\n",
       " 'layer1/weights/Variable/Adam_1/read',\n",
       " 'train/zeros_8',\n",
       " 'layer1/biases/Variable/Adam',\n",
       " 'layer1/biases/Variable/Adam/Assign',\n",
       " 'layer1/biases/Variable/Adam/read',\n",
       " 'train/zeros_9',\n",
       " 'layer1/biases/Variable/Adam_1',\n",
       " 'layer1/biases/Variable/Adam_1/Assign',\n",
       " 'layer1/biases/Variable/Adam_1/read',\n",
       " 'train/zeros_10',\n",
       " 'layer2/weights/Variable/Adam',\n",
       " 'layer2/weights/Variable/Adam/Assign',\n",
       " 'layer2/weights/Variable/Adam/read',\n",
       " 'train/zeros_11',\n",
       " 'layer2/weights/Variable/Adam_1',\n",
       " 'layer2/weights/Variable/Adam_1/Assign',\n",
       " 'layer2/weights/Variable/Adam_1/read',\n",
       " 'train/zeros_12',\n",
       " 'layer2/biases/Variable/Adam',\n",
       " 'layer2/biases/Variable/Adam/Assign',\n",
       " 'layer2/biases/Variable/Adam/read',\n",
       " 'train/zeros_13',\n",
       " 'layer2/biases/Variable/Adam_1',\n",
       " 'layer2/biases/Variable/Adam_1/Assign',\n",
       " 'layer2/biases/Variable/Adam_1/read',\n",
       " 'train/zeros_14',\n",
       " 'layer3/weights/Variable/Adam',\n",
       " 'layer3/weights/Variable/Adam/Assign',\n",
       " 'layer3/weights/Variable/Adam/read',\n",
       " 'train/zeros_15',\n",
       " 'layer3/weights/Variable/Adam_1',\n",
       " 'layer3/weights/Variable/Adam_1/Assign',\n",
       " 'layer3/weights/Variable/Adam_1/read',\n",
       " 'train/zeros_16',\n",
       " 'layer3/biases/Variable/Adam',\n",
       " 'layer3/biases/Variable/Adam/Assign',\n",
       " 'layer3/biases/Variable/Adam/read',\n",
       " 'train/zeros_17',\n",
       " 'layer3/biases/Variable/Adam_1',\n",
       " 'layer3/biases/Variable/Adam_1/Assign',\n",
       " 'layer3/biases/Variable/Adam_1/read',\n",
       " 'train/Adam/learning_rate',\n",
       " 'train/Adam/beta1',\n",
       " 'train/Adam/beta2',\n",
       " 'train/Adam/epsilon',\n",
       " 'train/Adam/update_convolution/0/W0/ApplyAdam',\n",
       " 'train/Adam/update_convolution/1/W1/ApplyAdam',\n",
       " 'train/Adam/update_convolution/2/W2/ApplyAdam',\n",
       " 'train/Adam/update_layer1/weights/Variable/ApplyAdam',\n",
       " 'train/Adam/update_layer1/biases/Variable/ApplyAdam',\n",
       " 'train/Adam/update_layer2/weights/Variable/ApplyAdam',\n",
       " 'train/Adam/update_layer2/biases/Variable/ApplyAdam',\n",
       " 'train/Adam/update_layer3/weights/Variable/ApplyAdam',\n",
       " 'train/Adam/update_layer3/biases/Variable/ApplyAdam',\n",
       " 'train/Adam/mul',\n",
       " 'train/Adam/Assign',\n",
       " 'train/Adam/mul_1',\n",
       " 'train/Adam/Assign_1',\n",
       " 'train/Adam',\n",
       " 'accuracy/correct_prediction/ArgMax/dimension',\n",
       " 'accuracy/correct_prediction/ArgMax',\n",
       " 'accuracy/correct_prediction/ArgMax_1/dimension',\n",
       " 'accuracy/correct_prediction/ArgMax_1',\n",
       " 'accuracy/correct_prediction/Equal',\n",
       " 'accuracy/accuracy/Cast',\n",
       " 'accuracy/accuracy/Const',\n",
       " 'accuracy/accuracy/Mean',\n",
       " 'accuracy_1/tags',\n",
       " 'accuracy_1',\n",
       " 'Merge/MergeSummary',\n",
       " 'init']"
      ]
     },
     "execution_count": 24,
     "metadata": {},
     "output_type": "execute_result"
    }
   ],
   "source": [
    "g = tf.get_default_graph()\n",
    "[op.name for op in g.get_operations()]"
   ]
  },
  {
   "cell_type": "code",
   "execution_count": 25,
   "metadata": {
    "collapsed": false
   },
   "outputs": [
    {
     "name": "stdout",
     "output_type": "stream",
     "text": [
      "(1, 30000)\n"
     ]
    },
    {
     "data": {
      "text/plain": [
       "<matplotlib.image.AxesImage at 0x122465e10>"
      ]
     },
     "execution_count": 25,
     "metadata": {},
     "output_type": "execute_result"
    },
    {
     "data": {
      "image/png": "[encoded data removed]",
      "text/plain": [
       "<matplotlib.figure.Figure at 0x126f2f7b8>"
      ]
     },
     "metadata": {},
     "output_type": "display_data"
    }
   ],
   "source": [
    "#pick an image from the test set\n",
    "img_sel = ds.test.images[0]\n",
    "\n",
    "img_conv = np.expand_dims(img_sel, axis=0)\n",
    "print(img_conv.shape)\n",
    "\n",
    "plt.imshow(img_conv.reshape(x_4d_shape[1],x_4d_shape[2],x_4d_shape[3]))"
   ]
  },
  {
   "cell_type": "code",
   "execution_count": 26,
   "metadata": {
    "collapsed": false
   },
   "outputs": [
    {
     "data": {
      "text/plain": [
       "(1, 50, 50, 32)"
      ]
     },
     "execution_count": 26,
     "metadata": {},
     "output_type": "execute_result"
    }
   ],
   "source": [
    "conv_out= g.get_tensor_by_name('convolution/0/Relu:0')\n",
    "img_conv = np.expand_dims(img_sel, axis=0)\n",
    "conv_layer = conv_out.eval(session=sess, feed_dict={x:img_conv})\n",
    "conv_layer.shape"
   ]
  },
  {
   "cell_type": "code",
   "execution_count": 27,
   "metadata": {
    "collapsed": false
   },
   "outputs": [
    {
     "data": {
      "text/plain": [
       "<matplotlib.image.AxesImage at 0x12750dac8>"
      ]
     },
     "execution_count": 27,
     "metadata": {},
     "output_type": "execute_result"
    },
    {
     "data": {
      "image/png": "[encoded data removed]",
      "text/plain": [
       "<matplotlib.figure.Figure at 0x12252d9b0>"
      ]
     },
     "metadata": {},
     "output_type": "display_data"
    }
   ],
   "source": [
    "# Activations of the first convolution layer\n",
    "mont_conv = montage_filters(np.rollaxis(np.expand_dims(conv_layer[0], 3), 3, 2))\n",
    "plt.figure(figsize=(6,6))\n",
    "plt.imshow(mont_conv, cmap='inferno')"
   ]
  },
  {
   "cell_type": "markdown",
   "metadata": {},
   "source": [
    "## T-SNE"
   ]
  },
  {
   "cell_type": "markdown",
   "metadata": {},
   "source": [
    "#### Reduce the dimensions to two to view how the celeberity images are clustering"
   ]
  },
  {
   "cell_type": "code",
   "execution_count": 28,
   "metadata": {
    "collapsed": false
   },
   "outputs": [
    {
     "data": {
      "text/plain": [
       "(64, 100)"
      ]
     },
     "execution_count": 28,
     "metadata": {},
     "output_type": "execute_result"
    }
   ],
   "source": [
    "finalRepresentations[-1].shape"
   ]
  },
  {
   "cell_type": "code",
   "execution_count": 29,
   "metadata": {
    "collapsed": true
   },
   "outputs": [],
   "source": [
    "tsne = TSNE(perplexity=50, n_components=2, init='pca', n_iter=5000)\n",
    "lowDWeights = tsne.fit_transform(finalRepresentations[-1])"
   ]
  },
  {
   "cell_type": "code",
   "execution_count": 30,
   "metadata": {
    "collapsed": true
   },
   "outputs": [],
   "source": [
    "y_target_idx = np.argmax(ds.train.labels, 1)"
   ]
  },
  {
   "cell_type": "code",
   "execution_count": 31,
   "metadata": {
    "collapsed": false
   },
   "outputs": [
    {
     "data": {
      "text/plain": [
       "<matplotlib.colorbar.Colorbar at 0x11fcc16d8>"
      ]
     },
     "execution_count": 31,
     "metadata": {},
     "output_type": "execute_result"
    },
    {
     "data": {
      "image/png": "[encoded data removed]",
      "text/plain": [
       "<matplotlib.figure.Figure at 0x1224a3518>"
      ]
     },
     "metadata": {},
     "output_type": "display_data"
    }
   ],
   "source": [
    "plt.scatter(lowDWeights[:,0], lowDWeights[:,1], c = y_target_idx, cmap=plt.cm.get_cmap('Dark2', n_classes))\n",
    "plt.colorbar(ticks=range(n_classes))"
   ]
  }
 ],
 "metadata": {
  "anaconda-cloud": {},
  "kernelspec": {
   "display_name": "Python 3",
   "language": "python",
   "name": "python3"
  },
  "language_info": {
   "codemirror_mode": {
    "name": "ipython",
    "version": 3
   },
   "file_extension": ".py",
   "mimetype": "text/x-python",
   "name": "python",
   "nbconvert_exporter": "python",
   "pygments_lexer": "ipython3",
   "version": "3.6.0"
  }
 },
 "nbformat": 4,
 "nbformat_minor": 2
}
